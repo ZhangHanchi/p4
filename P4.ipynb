{
 "cells": [
  {
   "cell_type": "markdown",
   "metadata": {},
   "source": [
    "## Advanced Lane Finding Project\n",
    "\n",
    "The goals / steps of this project are the following:\n",
    "\n",
    "* Compute the camera calibration matrix and distortion coefficients given a set of chessboard images.\n",
    "* Apply a distortion correction to raw images.\n",
    "* Use color transforms, gradients, etc., to create a thresholded binary image.\n",
    "* Apply a perspective transform to rectify binary image (\"birds-eye view\").\n",
    "* Detect lane pixels and fit to find the lane boundary.\n",
    "* Determine the curvature of the lane and vehicle position with respect to center.\n",
    "* Warp the detected lane boundaries back onto the original image.\n",
    "* Output visual display of the lane boundaries and numerical estimation of lane curvature and vehicle position.\n",
    "\n",
    "---\n",
    "## First, I'll compute the camera calibration using chessboard images"
   ]
  },
  {
   "cell_type": "code",
   "execution_count": 1,
   "metadata": {},
   "outputs": [],
   "source": [
    "import numpy as np\n",
    "import cv2\n",
    "import glob\n",
    "import matplotlib.pyplot as plt\n",
    "import pickle"
   ]
  },
  {
   "cell_type": "code",
   "execution_count": 2,
   "metadata": {},
   "outputs": [],
   "source": [
    "objp = np.zeros((6*9,3), np.float32)\n",
    "objp[:,:2] = np.mgrid[0:9,0:6].T.reshape(-1,2)\n",
    "\n",
    "objpoints = [] \n",
    "imgpoints = [] \n",
    "\n",
    "images = glob.glob('../camera_cal/calibration*.jpg')"
   ]
  },
  {
   "cell_type": "code",
   "execution_count": 3,
   "metadata": {},
   "outputs": [],
   "source": [
    "def cal_undistort(img, idx, objpoints, imgpoints): \n",
    "    #store the object points and image points \n",
    "    \n",
    "    gray = cv2.cvtColor(img,cv2.COLOR_BGR2GRAY)\n",
    "    ret, corners = cv2.findChessboardCorners(gray, (9,6),None)\n",
    "    if ret == True:\n",
    "        objpoints.append(objp)\n",
    "        imgpoints.append(corners)\n",
    "        img = cv2.drawChessboardCorners(img, (9,6), corners, ret)\n",
    "        write_name='../output_images/corners_found'+str(idx)+'.jpg'\n",
    "        cv2.imwrite(write_name,img)"
   ]
  },
  {
   "cell_type": "code",
   "execution_count": 4,
   "metadata": {},
   "outputs": [],
   "source": [
    "for idx,fname in enumerate(images):\n",
    "    img = cv2.imread(fname)\n",
    "    cal_undistort(img,idx, objpoints, imgpoints)\n",
    "    \n",
    "#compute the camera matrix and distortion coefficients\n",
    "ret, mtx, dist, rvecs, tvecs = cv2.calibrateCamera(objpoints, imgpoints, (img.shape[1],img.shape[0]), None, None)"
   ]
  },
  {
   "cell_type": "code",
   "execution_count": 5,
   "metadata": {
    "scrolled": true
   },
   "outputs": [],
   "source": [
    "dist_pickle={}\n",
    "dist_pickle[\"mtx\"]=mtx\n",
    "dist_pickle['dist']=dist\n",
    "pickle.dump(dist_pickle, open('../calibration.pickle.p','wb'))"
   ]
  },
  {
   "cell_type": "code",
   "execution_count": 6,
   "metadata": {},
   "outputs": [
    {
     "data": {
      "text/plain": [
       "True"
      ]
     },
     "execution_count": 6,
     "metadata": {},
     "output_type": "execute_result"
    }
   ],
   "source": [
    "#Obtain an example of a distortion corrected calibration image.\n",
    "img=cv2.imread('../camera_cal/calibration2.jpg')\n",
    "undist = cv2.undistort(img, mtx, dist, None, mtx)\n",
    "write_name='../output_images/undist2.jpg'\n",
    "cv2.imwrite(write_name,undist)"
   ]
  },
  {
   "cell_type": "code",
   "execution_count": 7,
   "metadata": {},
   "outputs": [],
   "source": [
    "def abs_sobel_thresh(img, sx_thresh=(15,255), sy_thresh=(25,255)):  \n",
    "    #Use gradients create a thresholded binary image\n",
    "    \n",
    "    gray = cv2.cvtColor(img, cv2.COLOR_BGR2GRAY)\n",
    "    grad = np.zeros_like(img[:,:,0])\n",
    "    sobelx = cv2.Sobel(gray, cv2.CV_64F, 1, 0)\n",
    "    sobely = cv2.Sobel(gray, cv2.CV_64F, 0, 1)\n",
    "    abs_sobelx = np.absolute(sobelx)\n",
    "    abs_sobely = np.absolute(sobely)\n",
    "    scaled_sobelx = np.uint8(255*abs_sobelx/np.max(abs_sobelx))\n",
    "    scaled_sobely = np.uint8(255*abs_sobely/np.max(abs_sobely))\n",
    "    sxbinary = np.zeros_like(scaled_sobelx)\n",
    "    sybinary = np.zeros_like(scaled_sobely)\n",
    "  \n",
    "    sxbinary[(scaled_sobelx >= sx_thresh[0]) & (scaled_sobelx <= sx_thresh[1])] = 1\n",
    "    sybinary[(scaled_sobely >= sy_thresh[0]) & (scaled_sobely <= sy_thresh[1])] = 1\n",
    "    \n",
    "    grad[(sxbinary==1) & (sybinary==1)]=255\n",
    "    return grad"
   ]
  },
  {
   "cell_type": "code",
   "execution_count": 8,
   "metadata": {},
   "outputs": [],
   "source": [
    "def color_threshold(img, s_thresh=(100,255), v_thresh=(50,255)):\n",
    "    #Use color transforms to create a thresholded binary image\n",
    "    \n",
    "    color=np.zeros_like(img[:,:,0])\n",
    "    hls=cv2.cvtColor(img, cv2.COLOR_RGB2HLS)\n",
    "    hsv = cv2.cvtColor(img, cv2.COLOR_BGR2HSV)\n",
    "   \n",
    "    s_channel = hls[:,:,2]\n",
    "    v_channel = hsv[:,:,2]\n",
    "    s_binary = np.zeros_like(s_channel)\n",
    "    v_binary = np.zeros_like(v_channel)\n",
    "    s_binary[(s_channel >= s_thresh[0]) & (s_channel <= s_thresh[1])] = 1\n",
    "    v_binary[(v_channel >= v_thresh[0]) & (v_channel <= v_thresh[1])] = 1\n",
    "    \n",
    "    color[(s_binary==1)&(v_binary==1)]=255\n",
    "    return color"
   ]
  },
  {
   "cell_type": "code",
   "execution_count": 9,
   "metadata": {},
   "outputs": [],
   "source": [
    "def combined_thresh(img,s_thresh=(100, 255),v_thresh=(50,255),sx_thresh=(15, 255),sy_thresh=(25, 255)): \n",
    "    #Combine the thresholded binary images using gradients and color transforms\n",
    "    img = cv2.undistort(img, mtx, dist, None, mtx)\n",
    "    gray=cv2.cvtColor(img,cv2.COLOR_BGR2GRAY)\n",
    "    grad=abs_sobel_thresh(img, sx_thresh, sy_thresh)\n",
    "    color=color_threshold(img, s_thresh, v_thresh)\n",
    "    \n",
    "    combined_binary = np.zeros_like(gray)\n",
    "    combined_binary[(grad == 255) | (color == 255)] = 255\n",
    "    return combined_binary"
   ]
  },
  {
   "cell_type": "code",
   "execution_count": 10,
   "metadata": {},
   "outputs": [],
   "source": [
    "def region_of_interest(img, vertices):\n",
    "    #Only keeps the region of the image defined by the polygon\n",
    "    #formed from `vertices`. The rest of the image is set to black.\n",
    "    \n",
    "    #actually doesn't have much effect because warp function will also limite the areas of image later\n",
    "    \n",
    "    mask=np.zeros_like(img)\n",
    "    ignore_mask_color=255\n",
    "    cv2.fillPoly(mask, vertices, ignore_mask_color)\n",
    "    masked_image=cv2.bitwise_and(img, mask)\n",
    "    return masked_image"
   ]
  },
  {
   "cell_type": "code",
   "execution_count": 11,
   "metadata": {},
   "outputs": [],
   "source": [
    "def warp(img):\n",
    "    #performe a perspective transform and store examples of a transformed image.\n",
    "    \n",
    "    img_size=(img.shape[1],img.shape[0])\n",
    "    bot_width=0.76\n",
    "    mid_width=0.09\n",
    "    height_pct=0.63\n",
    "    bottom_trim=0.94\n",
    "    \n",
    "    src=np.float32([[img.shape[1]*(0.5-mid_width/2),img.shape[0]*height_pct],\n",
    "                    [img.shape[1]*(0.5+mid_width/2),img.shape[0]*height_pct],\n",
    "                    [img.shape[1]*(0.5+bot_width/2),img.shape[0]*bottom_trim],\n",
    "                    [img.shape[1]*(0.5-bot_width/2),img.shape[0]*bottom_trim]])\n",
    "    offset=img_size[0]*.25\n",
    "    dst=np.float32([[offset,0],\n",
    "                    [img_size[0]-offset,0],\n",
    "                    [img_size[0]-offset,img_size[1]],\n",
    "                    [offset,img_size[1]]])\n",
    "    \n",
    "    M = cv2.getPerspectiveTransform(src, dst)\n",
    "    Minv=cv2.getPerspectiveTransform(dst,src)\n",
    "    warped = cv2.warpPerspective(img, M, img_size, flags=cv2.INTER_LINEAR)\n",
    "    return warped, M, Minv"
   ]
  },
  {
   "cell_type": "code",
   "execution_count": 12,
   "metadata": {},
   "outputs": [
    {
     "name": "stderr",
     "output_type": "stream",
     "text": [
      "<ipython-input-12-8d75f72059d6>:21: SyntaxWarning: name 'last_leftx' is assigned to before global declaration\n",
      "  global last_leftx, last_lefty, last_rightx, last_righty\n",
      "<ipython-input-12-8d75f72059d6>:21: SyntaxWarning: name 'last_lefty' is assigned to before global declaration\n",
      "  global last_leftx, last_lefty, last_rightx, last_righty\n",
      "<ipython-input-12-8d75f72059d6>:21: SyntaxWarning: name 'last_rightx' is assigned to before global declaration\n",
      "  global last_leftx, last_lefty, last_rightx, last_righty\n",
      "<ipython-input-12-8d75f72059d6>:21: SyntaxWarning: name 'last_righty' is assigned to before global declaration\n",
      "  global last_leftx, last_lefty, last_rightx, last_righty\n"
     ]
    }
   ],
   "source": [
    "def smooth(binary_warped, left_lane_inds, right_lane_inds, nonzerox, nonzeroy): \n",
    "    #using the current and last frame to improve the stability of lanes\n",
    "    #provide coordinations of pixels to calculate the radius\n",
    "    \n",
    "    now_leftx = nonzerox[left_lane_inds]\n",
    "    now_lefty = nonzeroy[left_lane_inds] \n",
    "    now_rightx = nonzerox[right_lane_inds]\n",
    "    now_righty = nonzeroy[right_lane_inds]\n",
    "    \n",
    "    if frame==0:\n",
    "        last_leftx=[]\n",
    "        last_lefty=[]\n",
    "        last_rightx=[]\n",
    "        last_righty=[]\n",
    "    \n",
    "    leftx = np.concatenate((now_leftx, last_leftx))\n",
    "    lefty = np.concatenate((now_lefty, last_lefty))\n",
    "    rightx= np.concatenate((now_rightx, last_rightx))\n",
    "    righty= np.concatenate((now_righty, last_righty))\n",
    "    \n",
    "    global last_leftx, last_lefty, last_rightx, last_righty\n",
    "    last_leftx  = now_leftx\n",
    "    last_lefty  = now_lefty\n",
    "    last_rightx = now_rightx\n",
    "    last_righty = now_righty\n",
    "    \n",
    "    global left_fit, right_fit\n",
    "    left_fit = np.polyfit(lefty, leftx, 2)\n",
    "    right_fit = np.polyfit(righty, rightx, 2)\n",
    "    \n",
    "    ploty = np.linspace(0, binary_warped.shape[0]-1, binary_warped.shape[0] )\n",
    "    left_fitx = left_fit[0]*ploty**2 + left_fit[1]*ploty + left_fit[2]\n",
    "    right_fitx = right_fit[0]*ploty**2 + right_fit[1]*ploty + right_fit[2]   \n",
    "    \n",
    "    plt.clf()\n",
    "    out_img=np.dstack((binary_warped, binary_warped, binary_warped))*255\n",
    "    out_img[nonzeroy[left_lane_inds], nonzerox[left_lane_inds]] = [255, 0, 0]\n",
    "    out_img[nonzeroy[right_lane_inds], nonzerox[right_lane_inds]] = [0, 0, 255]\n",
    "    plt.imshow(out_img)\n",
    "    plt.plot(left_fitx,ploty,color='yellow')\n",
    "    plt.plot(right_fitx, ploty, color='yellow')\n",
    "    plt.xlim(0, 1280)\n",
    "    plt.ylim(720, 0)\n",
    "    plt.savefig(\"../output_images/lane_lines.jpg\")\n",
    "    plt.clf()\n",
    "    return ploty,left_fitx,right_fitx"
   ]
  },
  {
   "cell_type": "code",
   "execution_count": 13,
   "metadata": {},
   "outputs": [],
   "source": [
    "def first_frame(binary_warped): \n",
    "    \n",
    "    #determine the very start points of two lanes at the bottom of picture\n",
    "    histogram = np.sum(binary_warped[3*binary_warped.shape[0]//4:,:], axis=0)\n",
    "    midpoint = np.int(histogram.shape[0]//2)\n",
    "    window_width=25\n",
    "    window=np.ones(window_width)\n",
    "    leftx_base=np.argmax(np.convolve(window,histogram[:midpoint]))-window_width/2\n",
    "    rightx_base=np.argmax(np.convolve(window,histogram[midpoint:]))-window_width/2+int(binary_warped.shape[1]/2)\n",
    "\n",
    "    #set the coefficients for sliding window\n",
    "    nwindows = 9\n",
    "    window_height = np.int(binary_warped.shape[0]//nwindows)\n",
    "    nonzero = binary_warped.nonzero()\n",
    "    nonzeroy = np.array(nonzero[0])\n",
    "    nonzerox = np.array(nonzero[1])\n",
    "    leftx_current = leftx_base\n",
    "    rightx_current = rightx_base\n",
    "    margin = 100\n",
    "    minpix = 50\n",
    "    left_lane_inds = []\n",
    "    right_lane_inds = []\n",
    "\n",
    "    #using sliding windows to find the lane pixels for first frame\n",
    "    for window in range(nwindows):\n",
    "        win_y_low = binary_warped.shape[0] - (window+1)*window_height\n",
    "        win_y_high = binary_warped.shape[0] - window*window_height\n",
    "        win_xleft_low = leftx_current - margin\n",
    "        win_xleft_high = leftx_current + margin\n",
    "        win_xright_low = rightx_current - margin\n",
    "        win_xright_high = rightx_current + margin\n",
    " \n",
    "        good_left_inds = ((nonzeroy >= win_y_low) & (nonzeroy < win_y_high) & (nonzerox >= win_xleft_low) &  (nonzerox < win_xleft_high)).nonzero()[0]\n",
    "        good_right_inds = ((nonzeroy >= win_y_low) & (nonzeroy < win_y_high) & (nonzerox >= win_xright_low) &  (nonzerox < win_xright_high)).nonzero()[0]\n",
    "        left_lane_inds.append(good_left_inds)\n",
    "        right_lane_inds.append(good_right_inds)\n",
    "\n",
    "        if len(good_left_inds) > minpix:\n",
    "            leftx_current = np.int(np.mean(nonzerox[good_left_inds]))\n",
    "        if len(good_right_inds) > minpix:        \n",
    "            rightx_current = np.int(np.mean(nonzerox[good_right_inds]))\n",
    "            \n",
    "    left_lane_inds = np.concatenate(left_lane_inds)\n",
    "    right_lane_inds = np.concatenate(right_lane_inds)\n",
    "    \n",
    "    \n",
    "    global last_left, last_right\n",
    "    last_left = left_lane_inds\n",
    "    last_right = right_lane_inds\n",
    "    ploty, left_fitx, right_fitx = smooth(binary_warped, left_lane_inds, right_lane_inds, nonzerox, nonzeroy)\n",
    "    \n",
    "    \n",
    "    return ploty, left_fitx, right_fitx"
   ]
  },
  {
   "cell_type": "code",
   "execution_count": 14,
   "metadata": {},
   "outputs": [],
   "source": [
    "def not_first_frame(binary_warped):\n",
    "    #find lane pixels based on lanes in last frame\n",
    "    \n",
    "    nonzero = binary_warped.nonzero()\n",
    "    nonzeroy = np.array(nonzero[0])\n",
    "    nonzerox = np.array(nonzero[1])\n",
    "    margin = 100\n",
    "    \n",
    "    left_lane_inds = ((nonzerox > (left_fit[0]*(nonzeroy**2) + left_fit[1]*nonzeroy + \n",
    "                      left_fit[2] - margin)) & (nonzerox < (left_fit[0]*(nonzeroy**2) + \n",
    "                      left_fit[1]*nonzeroy + left_fit[2] + margin))) \n",
    "    right_lane_inds = ((nonzerox > (right_fit[0]*(nonzeroy**2) + right_fit[1]*nonzeroy + \n",
    "                      right_fit[2] - margin)) & (nonzerox < (right_fit[0]*(nonzeroy**2) + \n",
    "                      right_fit[1]*nonzeroy + right_fit[2] + margin)))  \n",
    "    ploty, left_fitx, right_fitx = smooth(binary_warped, left_lane_inds, right_lane_inds, nonzerox,nonzeroy)    \n",
    "        \n",
    "    return ploty, left_fitx, right_fitx"
   ]
  },
  {
   "cell_type": "code",
   "execution_count": 15,
   "metadata": {},
   "outputs": [],
   "source": [
    "def calculate_radius(warped, ploty, left_fitx, right_fitx):  \n",
    "    #calculate the radius and \n",
    "    \n",
    "    ym_per_pix=20/720\n",
    "    xm_per_pix=3/700\n",
    "    y_eval=np.max(ploty)\n",
    "\n",
    "    left_fit_cr = np.polyfit(ploty*ym_per_pix, left_fitx*xm_per_pix, 2)\n",
    "    right_fit_cr = np.polyfit(ploty*ym_per_pix, right_fitx*xm_per_pix, 2)\n",
    "        \n",
    "    left_curverad = ((1 + (2*left_fit_cr[0]*y_eval*ym_per_pix + left_fit_cr[1])**2)**1.5) / np.absolute(2*left_fit_cr[0])\n",
    "    right_curverad = ((1 + (2*right_fit_cr[0]*y_eval*ym_per_pix + right_fit_cr[1])**2)**1.5) / np.absolute(2*right_fit_cr[0])\n",
    "\n",
    "    camera_center=(left_fitx[-1]+right_fitx[-1])/2\n",
    "    center_diff=(camera_center-warped.shape[1]/2)*xm_per_pix\n",
    "    side_pos='left'\n",
    "    if center_diff<=0:\n",
    "        side_pos='right'\n",
    "    return left_curverad, right_curverad, center_diff,side_pos"
   ]
  },
  {
   "cell_type": "code",
   "execution_count": 16,
   "metadata": {},
   "outputs": [],
   "source": [
    "def visualization(warped, undist, ploty, left_fitx, right_fitx, Minv,left_curverad,center_diff,side_pos):   \n",
    "    #visulize the area between detected lanes\n",
    "    \n",
    "    warp_zero = np.zeros_like(warped).astype(np.uint8) \n",
    "    color_warp = np.dstack((warp_zero, warp_zero, warp_zero))\n",
    "    pts_left = np.array([np.transpose(np.vstack([left_fitx, ploty]))])\n",
    "    pts_right = np.array([np.flipud(np.transpose(np.vstack([right_fitx, ploty])))])\n",
    "    pts = np.hstack((pts_left, pts_right))\n",
    "  \n",
    "    cv2.fillPoly(color_warp, np.int_([pts]), (0, 255, 0))\n",
    "    newwarp = cv2.warpPerspective(color_warp, Minv,(warped.shape[1], warped.shape[0]))   \n",
    "    result_BGR = cv2.addWeighted(undist, 1, newwarp, 0.3, 0)  \n",
    "    cv2.putText(result_BGR, 'Radius of Curvature ='+str(round(left_curverad, 3))+'(m)',(50,50),cv2.FONT_HERSHEY_SIMPLEX,1,(255,255,255),2)\n",
    "    cv2.putText(result_BGR, 'Vehicle is '+str(abs(round(center_diff,3)))+'m '+side_pos+' of center',(50,100),cv2.FONT_HERSHEY_SIMPLEX,1,(255,255,255), 2)\n",
    "    \n",
    "    return result_BGR"
   ]
  },
  {
   "cell_type": "code",
   "execution_count": 17,
   "metadata": {
    "scrolled": false
   },
   "outputs": [
    {
     "name": "stderr",
     "output_type": "stream",
     "text": [
      "<ipython-input-17-0ec9deb14770>:20: SyntaxWarning: name 'frame' is used prior to global declaration\n",
      "  global frame\n"
     ]
    }
   ],
   "source": [
    "def pipeline(image): \n",
    "    \n",
    "    undist=cv2.undistort(image, mtx, dist, None, mtx)\n",
    "    wbimg=combined_thresh(undist,s_thresh=(100, 255),v_thresh=(100,255),sx_thresh=(25, 255),sy_thresh=(25, 255))\n",
    "    #write_name=\"../output_images/thresholded_binary-\"+str(idx)\n",
    "    #cv2.imwrite(write_name, wbimg)\n",
    "    \n",
    "    vertices=np.array([[(160,680),(600,430),(680,430),(1120,680)]],dtype=np.int32)\n",
    "    masked_wbimg= region_of_interest(wbimg, vertices)\n",
    "    \n",
    "    global M, Minv\n",
    "    warped, M, Minv = warp(masked_wbimg)\n",
    "    #write_name=\"../output_images/wraped-\"+str(idx)\n",
    "    #cv2.imwrite(write_name,warped)\n",
    "    \n",
    "    if frame==0:     \n",
    "        ploty,left_fitx,right_fitx=first_frame(warped)\n",
    "    else: \n",
    "        ploty,left_fitx,right_fitx=not_first_frame(warped)\n",
    "    global frame\n",
    "    frame+=1\n",
    "    \n",
    "    left_radius, right_radius,center_diff,side_pos=calculate_radius(warped,ploty, left_fitx, right_fitx)\n",
    "    result=visualization(warped, undist ,ploty, left_fitx, right_fitx, Minv,left_radius,center_diff, side_pos)\n",
    "    #write_name=\"../output_images/result_\"+str(idx)\n",
    "    #cv2.imwrite(write_name,result)\n",
    "    \n",
    "    return result"
   ]
  },
  {
   "cell_type": "code",
   "execution_count": 18,
   "metadata": {
    "scrolled": false
   },
   "outputs": [
    {
     "data": {
      "text/plain": [
       "<Figure size 432x288 with 0 Axes>"
      ]
     },
     "metadata": {},
     "output_type": "display_data"
    }
   ],
   "source": [
    "import os\n",
    "images=os.listdir(\"../test_images/\")\n",
    "\n",
    "for img in images:\n",
    "    path='../test_images/'+img\n",
    "    image=cv2.imread(path)\n",
    "    global frame\n",
    "    frame=0\n",
    "    pipeline(image)   "
   ]
  },
  {
   "cell_type": "code",
   "execution_count": 19,
   "metadata": {},
   "outputs": [],
   "source": [
    "from moviepy.editor import VideoFileClip\n",
    "from IPython.display import HTML"
   ]
  },
  {
   "cell_type": "code",
   "execution_count": 20,
   "metadata": {},
   "outputs": [],
   "source": [
    "global frame\n",
    "frame=0\n",
    "def process_image(image):\n",
    "    img=pipeline(image)\n",
    "    return img"
   ]
  },
  {
   "cell_type": "code",
   "execution_count": 21,
   "metadata": {
    "scrolled": false
   },
   "outputs": [
    {
     "name": "stdout",
     "output_type": "stream",
     "text": [
      "[MoviePy] >>>> Building video ../project_result.mp4\n",
      "[MoviePy] Writing video ../project_result.mp4\n"
     ]
    },
    {
     "name": "stderr",
     "output_type": "stream",
     "text": [
      "100%|█████████▉| 1260/1261 [18:34<00:00,  1.13it/s]\n"
     ]
    },
    {
     "name": "stdout",
     "output_type": "stream",
     "text": [
      "[MoviePy] Done.\n",
      "[MoviePy] >>>> Video ready: ../project_result.mp4 \n",
      "\n",
      "CPU times: user 10min 50s, sys: 1min 36s, total: 12min 27s\n",
      "Wall time: 18min 35s\n"
     ]
    },
    {
     "data": {
      "text/plain": [
       "<Figure size 432x288 with 0 Axes>"
      ]
     },
     "metadata": {},
     "output_type": "display_data"
    }
   ],
   "source": [
    "white_output = '../project_result.mp4'\n",
    "clip1 = VideoFileClip('../project_video.mp4')\n",
    "white_clip=clip1.fl_image(process_image)\n",
    "%time white_clip.write_videofile(white_output, audio=False)"
   ]
  },
  {
   "cell_type": "code",
   "execution_count": 22,
   "metadata": {
    "scrolled": true
   },
   "outputs": [
    {
     "data": {
      "text/html": [
       "<video width=\"1280\" height=\"720\" controls>\n",
       "        <source src=../project_result.mp4>\n",
       "        </video>\n",
       "        "
      ],
      "text/plain": [
       "<IPython.core.display.HTML object>"
      ]
     },
     "execution_count": 22,
     "metadata": {},
     "output_type": "execute_result"
    }
   ],
   "source": [
    "HTML(\"\"\"<video width=\"1280\" height=\"720\" controls>\n",
    "        <source src={0}>\n",
    "        </video>\n",
    "        \"\"\".format(white_output))"
   ]
  },
  {
   "cell_type": "code",
   "execution_count": null,
   "metadata": {},
   "outputs": [],
   "source": []
  },
  {
   "cell_type": "code",
   "execution_count": null,
   "metadata": {},
   "outputs": [],
   "source": []
  }
 ],
 "metadata": {
  "anaconda-cloud": {},
  "kernelspec": {
   "display_name": "Python 3",
   "language": "python",
   "name": "python3"
  },
  "language_info": {
   "codemirror_mode": {
    "name": "ipython",
    "version": 3
   },
   "file_extension": ".py",
   "mimetype": "text/x-python",
   "name": "python",
   "nbconvert_exporter": "python",
   "pygments_lexer": "ipython3",
   "version": "3.5.2"
  },
  "widgets": {
   "state": {},
   "version": "1.1.2"
  }
 },
 "nbformat": 4,
 "nbformat_minor": 1
}
